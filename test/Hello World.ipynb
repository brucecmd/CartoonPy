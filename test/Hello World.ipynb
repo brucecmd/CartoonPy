{
 "cells": [
  {
   "cell_type": "code",
   "execution_count": null,
   "metadata": {
    "collapsed": false
   },
   "outputs": [],
   "source": [
    "import cartoonpy.editor as ctpy\n",
    "import numpy as np"
   ]
  },
  {
   "cell_type": "code",
   "execution_count": null,
   "metadata": {
    "collapsed": true
   },
   "outputs": [],
   "source": [
    "duration = 8\n",
    "fps = 15"
   ]
  },
  {
   "cell_type": "code",
   "execution_count": null,
   "metadata": {
    "collapsed": true
   },
   "outputs": [],
   "source": [
    "def make_frame(t):\n",
    "    frame = np.zeros((360, 640, 3), dtype='uint8')\n",
    "    frame[:,:,int((t * fps / 3) % 3)] = 155 + int(100 * t / duration)\n",
    "    return frame"
   ]
  },
  {
   "cell_type": "code",
   "execution_count": null,
   "metadata": {
    "collapsed": false
   },
   "outputs": [],
   "source": [
    "video_clip = ctpy.VideoClip(make_frame=make_frame, duration=duration).set_fps(fps)"
   ]
  },
  {
   "cell_type": "code",
   "execution_count": null,
   "metadata": {
    "collapsed": false
   },
   "outputs": [],
   "source": [
    "text_clip = ctpy.TextClip('Hello CartoonPy',\n",
    "                          fonttype='Ubuntu-B', fontsize=64,\n",
    "                          bg_alpha=128).margin(10)\n",
    "text_clip.ipython_display()"
   ]
  },
  {
   "cell_type": "code",
   "execution_count": null,
   "metadata": {
    "collapsed": false
   },
   "outputs": [],
   "source": [
    "# tts_clip 需要配置 config_default.py 中的tok变量\n",
    "hello_str = '''\n",
    "非常欢迎来到百晓通客栈，卡通派编辑器捧场，\n",
    "这里是卡通派的首个测试Demo——Hello CartoonPy！\n",
    "'''\n",
    "tts_clip = ctpy.AudioTTSClip(hello_str, filename='HelloCP.mp3')\n",
    "tts_clip.ipython_display()"
   ]
  },
  {
   "cell_type": "code",
   "execution_count": null,
   "metadata": {
    "collapsed": false
   },
   "outputs": [],
   "source": [
    "audio_clip = ctpy.AudioFileClip('res/audio/Real_World.mp3').subclip(0, duration)\n",
    "audio_clip.ipython_display()"
   ]
  },
  {
   "cell_type": "code",
   "execution_count": null,
   "metadata": {
    "collapsed": false
   },
   "outputs": [],
   "source": [
    "final_audio = ctpy.CompositeAudioClip([tts_clip.volumex(2), \n",
    "                                       audio_clip.volumex(0.3).audio_fadeout(2)])\n",
    "final_audio.ipython_display()"
   ]
  },
  {
   "cell_type": "code",
   "execution_count": null,
   "metadata": {
    "collapsed": false
   },
   "outputs": [],
   "source": [
    "final_clip = ctpy.CompositeVideoClip([video_clip,\n",
    "                                      text_clip.set_pos('center')])\n",
    "final_clip = final_clip.set_duration(duration).margin(10, color=(128,0,128))\n",
    "# tts_clip 需要配置 config_default.py 中的tok变量\n",
    "final_clip.audio = final_audio\n",
    "final_clip = final_clip.invert_colors()\n",
    "final_clip.ipython_display()"
   ]
  }
 ],
 "metadata": {
  "kernelspec": {
   "display_name": "Python 3",
   "language": "python",
   "name": "python3"
  },
  "language_info": {
   "codemirror_mode": {
    "name": "ipython",
    "version": 3
   },
   "file_extension": ".py",
   "mimetype": "text/x-python",
   "name": "python",
   "nbconvert_exporter": "python",
   "pygments_lexer": "ipython3",
   "version": "3.5.2"
  }
 },
 "nbformat": 4,
 "nbformat_minor": 1
}
